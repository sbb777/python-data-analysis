{
 "cells": [
  {
   "cell_type": "markdown",
   "metadata": {},
   "source": [
    "Copyright (c) 2019 [윤기태]\n",
    "\n",
    "https://github.com/yoonkt200/python-data-analysis\n",
    "\n",
    "[MIT License](https://github.com/yoonkt200/python-data-analysis/blob/master/LICENSE.txt)"
   ]
  },
  {
   "cell_type": "markdown",
   "metadata": {},
   "source": [
    "# (가제) 파이썬 데이터 분석"
   ]
  },
  {
   "cell_type": "markdown",
   "metadata": {},
   "source": [
    "-----"
   ]
  },
  {
   "cell_type": "markdown",
   "metadata": {},
   "source": [
    "# 4.2) 강남역 맛집 리뷰로 알아보는 감성 분류"
   ]
  },
  {
   "cell_type": "markdown",
   "metadata": {},
   "source": [
    "### 바로가기"
   ]
  },
  {
   "cell_type": "markdown",
   "metadata": {},
   "source": [
    "- [<Step1. 크롤링> : 카카오맵 리뷰 크롤링](#<Step1.-크롤링>-:-카카오맵-리뷰-크롤링)\n",
    "    - [카카오맵 크롤링]\n",
    "    - [맛집 리뷰 정보 크롤링]\n",
    "- [<Step2. 전처리> : TF-IDF를 이용한 핵심어 추출](#<Step2.-전처리>-:-TF\\-IDF를-이용한-핵심어-추출)\n",
    "    - [형태소 추출하기]\n",
    "    - [분류 모델의 학습 데이터로 변환하기]\n",
    "- [<Step3. 분류> : 긍정 부정 리뷰 분류하기](#<Step3.-분류>-:-긍정-부정-리뷰-분류하기)\n",
    "    - [분류 모델링]\n",
    "    - [분류 모델 개선]\n",
    "- [<Step4. 활용> : 중요 키워드 분석](#<Step4.-활용>-:-중요-키워드-분석)\n",
    "    - [회귀 모델의 피처 영향력 추출]\n",
    "    - [중요 피처의 형태소]"
   ]
  },
  {
   "cell_type": "markdown",
   "metadata": {},
   "source": [
    "-----"
   ]
  },
  {
   "cell_type": "code",
   "execution_count": 1,
   "metadata": {
    "code_folding": [],
    "scrolled": true
   },
   "outputs": [],
   "source": [
    "# -*- coding: utf-8 -*-\n",
    "\n",
    "%matplotlib inline\n",
    "\n",
    "import pandas as pd\n",
    "import numpy as np\n",
    "import matplotlib.pyplot as plt\n",
    "import seaborn as sns\n",
    "\n",
    "import warnings\n",
    "warnings.filterwarnings(\"ignore\")"
   ]
  },
  {
   "cell_type": "markdown",
   "metadata": {},
   "source": [
    "# <Step1. 크롤링> : 카카오맵 리뷰 크롤링 "
   ]
  },
  {
   "cell_type": "markdown",
   "metadata": {},
   "source": [
    "### [카카오맵 개발자도구 화면]"
   ]
  },
  {
   "cell_type": "markdown",
   "metadata": {},
   "source": [
    "![앱 생성 페이지](img/1.png)"
   ]
  },
  {
   "cell_type": "markdown",
   "metadata": {},
   "source": [
    "-----"
   ]
  },
  {
   "cell_type": "code",
   "execution_count": 31,
   "metadata": {
    "code_folding": [],
    "scrolled": false
   },
   "outputs": [
    {
     "name": "stdout",
     "output_type": "stream",
     "text": [
      "https://place.map.kakao.com/9968737\n",
      "https://place.map.kakao.com/26626836\n",
      "https://place.map.kakao.com/1617467808\n",
      "https://place.map.kakao.com/7975283\n",
      "https://place.map.kakao.com/1234435101\n",
      "https://place.map.kakao.com/19539402\n",
      "https://place.map.kakao.com/873631161\n",
      "https://place.map.kakao.com/25634322\n",
      "https://place.map.kakao.com/652695946\n",
      "https://place.map.kakao.com/27412069\n",
      "https://place.map.kakao.com/22927362\n",
      "https://place.map.kakao.com/1051286767\n",
      "https://place.map.kakao.com/2068159256\n",
      "https://place.map.kakao.com/852221639\n",
      "https://place.map.kakao.com/1798961498\n",
      "https://place.map.kakao.com/615360935\n",
      "https://place.map.kakao.com/26612580\n",
      "https://place.map.kakao.com/25768091\n"
     ]
    }
   ],
   "source": [
    "from selenium import webdriver\n",
    "from bs4 import BeautifulSoup\n",
    "import re\n",
    "import time\n",
    "\n",
    "# brew 로 설치된 chromedriver의 path (Mac)\n",
    "path = '/usr/local/bin/chromedriver'\n",
    "\n",
    "# 윈도우용 크롬 웹드라이버 실행 경로 (Windows)\n",
    "excutable_path = 'chromedriver.exe'\n",
    "\n",
    "# 크롤링할 사이트 주소를 정의합니다.\n",
    "source_url = \"https://map.kakao.com/\"\n",
    "\n",
    "# 크롬 드라이버를 사용합니다 (맥은 첫 줄, 윈도우는 두번째 줄 실행)\n",
    "# driver = webdriver.Chrome(path)\n",
    "driver = webdriver.Chrome(executable_path=excutable_path)\n",
    "\n",
    "# 카카오 지도에 접속합니다\n",
    "driver.get(source_url)\n",
    "\n",
    "# 검색창에 검색어를 입력합니다\n",
    "searchbox = driver.find_element_by_xpath(\"//input[@id='search.keyword.query']\")\n",
    "searchbox.send_keys(\"영통 맛집\")\n",
    "\n",
    "# 검색버튼을 눌러서 결과를 가져옵니다\n",
    "searchbutton = driver.find_element_by_xpath(\"//button[@id='search.keyword.submit']\")\n",
    "driver.execute_script(\"arguments[0].click();\", searchbutton)\n",
    "\n",
    "# 검색 결과를 가져올 시간을 기다립니다\n",
    "time.sleep(2)\n",
    "\n",
    "# 검색 결과의 페이지 소스를 가져옵니다\n",
    "html = driver.page_source\n",
    "\n",
    "# BeautifulSoup을 이용하여 html 정보를 파싱합니다\n",
    "soup = BeautifulSoup(html, \"html.parser\")\n",
    "moreviews = soup.find_all(name=\"a\", attrs={\"class\":\"moreview\"})\n",
    "\n",
    "# a태그의 href 속성을 리스트로 추출하여, 크롤링 할 페이지 리스트를 생성합니다.\n",
    "page_urls = []\n",
    "for moreview in moreviews:\n",
    "    page_url = moreview.get(\"href\")\n",
    "    print(page_url)\n",
    "    page_urls.append(page_url)\n",
    "\n",
    "# 크롤링에 사용한 브라우저를 종료합니다.\n",
    "driver.close()"
   ]
  },
  {
   "cell_type": "markdown",
   "metadata": {},
   "source": [
    "-----"
   ]
  },
  {
   "cell_type": "markdown",
   "metadata": {},
   "source": [
    "### [맛집 리뷰 정보 크롤링]"
   ]
  },
  {
   "cell_type": "markdown",
   "metadata": {},
   "source": [
    "![앱 생성 페이지](img/2.png)"
   ]
  },
  {
   "cell_type": "markdown",
   "metadata": {},
   "source": [
    "-----"
   ]
  },
  {
   "cell_type": "code",
   "execution_count": 32,
   "metadata": {
    "scrolled": true
   },
   "outputs": [],
   "source": [
    "columns = ['score', 'review']\n",
    "df = pd.DataFrame(columns=columns)\n",
    "\n",
    "# driver = webdriver.Chrome(path)  # for Mac\n",
    "driver = webdriver.Chrome(executable_path=excutable_path)  # for Windows\n",
    "for page_url in page_urls:\n",
    "    \n",
    "    # 상세보기 페이지에 접속합니다\n",
    "    driver.get(page_url)\n",
    "    time.sleep(2)\n",
    "    \n",
    "    # 첫 페이지 리뷰를 크롤링합니다\n",
    "    html = driver.page_source\n",
    "    soup = BeautifulSoup(html, 'html.parser')\n",
    "    contents_div = soup.find(name=\"div\", attrs={\"class\":\"evaluation_review\"})\n",
    "    \n",
    "    # 별점을 가져옵니다.\n",
    "    rates = contents_div.find_all(name=\"em\", attrs={\"class\":\"num_rate\"})\n",
    "    \n",
    "    # 리뷰를 가져옵니다.\n",
    "    reviews = contents_div.find_all(name=\"p\", attrs={\"class\":\"txt_comment\"})\n",
    "    \n",
    "    for rate, review in zip(rates, reviews):\n",
    "        row = [rate.text[0], review.find(name=\"span\").text]\n",
    "        series = pd.Series(row, index=df.columns)\n",
    "        df = df.append(series, ignore_index=True)\n",
    "    \n",
    "    # 2-5페이지의 리뷰를 크롤링합니다\n",
    "    for button_num in range(2, 6):\n",
    "        # 오류가 나는 경우(리뷰 페이지가 없는 경우), 수행하지 않습니다.\n",
    "        try:\n",
    "            another_reviews = driver.find_element_by_xpath(\"//a[@data-page='\" + str(button_num) + \"']\")\n",
    "            another_reviews.click()\n",
    "            time.sleep(2)\n",
    "            \n",
    "            # 페이지 리뷰를 크롤링합니다\n",
    "            html = driver.page_source\n",
    "            soup = BeautifulSoup(html, 'html.parser')\n",
    "            contents_div = soup.find(name=\"div\", attrs={\"class\":\"evaluation_review\"})\n",
    "\n",
    "            # 별점을 가져옵니다.\n",
    "            rates = contents_div.find_all(name=\"em\", attrs={\"class\":\"num_rate\"})\n",
    "\n",
    "            # 리뷰를 가져옵니다.\n",
    "            reviews = contents_div.find_all(name=\"p\", attrs={\"class\":\"txt_comment\"})\n",
    "\n",
    "            for rate, review in zip(rates, reviews):\n",
    "                row = [rate.text[0], review.find(name=\"span\").text]\n",
    "                series = pd.Series(row, index=df.columns)\n",
    "                df = df.append(series, ignore_index=True)\n",
    "        except:\n",
    "            break    \n",
    "driver.close()"
   ]
  },
  {
   "cell_type": "code",
   "execution_count": 33,
   "metadata": {},
   "outputs": [
    {
     "name": "stdout",
     "output_type": "stream",
     "text": [
      "(420, 3)\n"
     ]
    },
    {
     "data": {
      "text/html": [
       "<div>\n",
       "<style scoped>\n",
       "    .dataframe tbody tr th:only-of-type {\n",
       "        vertical-align: middle;\n",
       "    }\n",
       "\n",
       "    .dataframe tbody tr th {\n",
       "        vertical-align: top;\n",
       "    }\n",
       "\n",
       "    .dataframe thead th {\n",
       "        text-align: right;\n",
       "    }\n",
       "</style>\n",
       "<table border=\"1\" class=\"dataframe\">\n",
       "  <thead>\n",
       "    <tr style=\"text-align: right;\">\n",
       "      <th></th>\n",
       "      <th>score</th>\n",
       "      <th>review</th>\n",
       "      <th>y</th>\n",
       "    </tr>\n",
       "  </thead>\n",
       "  <tbody>\n",
       "    <tr>\n",
       "      <th>0</th>\n",
       "      <td>5</td>\n",
       "      <td>라운딩 후 기력보충으로 장어로 정해서 먹었는데 메뉴선택, 매장선택이 좋았습니다</td>\n",
       "      <td>1</td>\n",
       "    </tr>\n",
       "    <tr>\n",
       "      <th>1</th>\n",
       "      <td>5</td>\n",
       "      <td>날이더워고민했는데 그래도 맛있게 먹고나니 기분좋습니다.</td>\n",
       "      <td>1</td>\n",
       "    </tr>\n",
       "    <tr>\n",
       "      <th>2</th>\n",
       "      <td>5</td>\n",
       "      <td>실하고 좋네요~~   오랜만에 가족식사 나왔어요. 사람 많고 맛있었어요</td>\n",
       "      <td>1</td>\n",
       "    </tr>\n",
       "    <tr>\n",
       "      <th>3</th>\n",
       "      <td>5</td>\n",
       "      <td>청명산장어오면 다른곳못가죠 ㅎ</td>\n",
       "      <td>1</td>\n",
       "    </tr>\n",
       "    <tr>\n",
       "      <th>4</th>\n",
       "      <td>5</td>\n",
       "      <td>너무너무맛있어요~~ 몸보신해야 살죠~</td>\n",
       "      <td>1</td>\n",
       "    </tr>\n",
       "  </tbody>\n",
       "</table>\n",
       "</div>"
      ],
      "text/plain": [
       "  score                                       review  y\n",
       "0     5  라운딩 후 기력보충으로 장어로 정해서 먹었는데 메뉴선택, 매장선택이 좋았습니다  1\n",
       "1     5               날이더워고민했는데 그래도 맛있게 먹고나니 기분좋습니다.  1\n",
       "2     5      실하고 좋네요~~   오랜만에 가족식사 나왔어요. 사람 많고 맛있었어요  1\n",
       "3     5                             청명산장어오면 다른곳못가죠 ㅎ  1\n",
       "4     5                         너무너무맛있어요~~ 몸보신해야 살죠~  1"
      ]
     },
     "execution_count": 33,
     "metadata": {},
     "output_type": "execute_result"
    }
   ],
   "source": [
    "# 4점 이상의 리뷰는 긍정 리뷰, 3점 이하의 리뷰는 부정 리뷰로 평가합니다.\n",
    "df['y'] = df['score'].apply(lambda x: 1 if float(x) > 3 else 0)\n",
    "print(df.shape)\n",
    "df.head()"
   ]
  },
  {
   "cell_type": "code",
   "execution_count": 52,
   "metadata": {},
   "outputs": [],
   "source": [
    "# df.to_csv(\"review_data2.csv\",encoding='utf-8-sig', index=False)\n",
    "df.to_csv(\"review_data2.csv\", index=False)"
   ]
  },
  {
   "cell_type": "markdown",
   "metadata": {},
   "source": [
    "-----"
   ]
  },
  {
   "cell_type": "markdown",
   "metadata": {},
   "source": [
    "# <Step2. 전처리> : TF-IDF를 이용한 핵심어 추출"
   ]
  },
  {
   "cell_type": "markdown",
   "metadata": {},
   "source": [
    "### [형태소 추출하기]"
   ]
  },
  {
   "cell_type": "markdown",
   "metadata": {},
   "source": [
    "##### 한글 텍스트로 전처리"
   ]
  },
  {
   "cell_type": "code",
   "execution_count": 2,
   "metadata": {},
   "outputs": [],
   "source": [
    "df = pd.read_csv(\"review_data2.csv\")"
   ]
  },
  {
   "cell_type": "code",
   "execution_count": 3,
   "metadata": {},
   "outputs": [],
   "source": [
    "import re\n",
    "\n",
    "# 텍스트 정제 함수 : 한글 이외의 문자는 전부 제거\n",
    "def text_cleaning(text):\n",
    "    # 한글의 정규표현식으로 한글만 추출합니다.\n",
    "    hangul = re.compile('[^ ㄱ-ㅣ가-힣]+')\n",
    "#     result = hangul.sub('', text)\n",
    "    result = hangul.sub('', str(text))\n",
    "    return result"
   ]
  },
  {
   "cell_type": "code",
   "execution_count": 55,
   "metadata": {},
   "outputs": [
    {
     "data": {
      "text/html": [
       "<div>\n",
       "<style scoped>\n",
       "    .dataframe tbody tr th:only-of-type {\n",
       "        vertical-align: middle;\n",
       "    }\n",
       "\n",
       "    .dataframe tbody tr th {\n",
       "        vertical-align: top;\n",
       "    }\n",
       "\n",
       "    .dataframe thead th {\n",
       "        text-align: right;\n",
       "    }\n",
       "</style>\n",
       "<table border=\"1\" class=\"dataframe\">\n",
       "  <thead>\n",
       "    <tr style=\"text-align: right;\">\n",
       "      <th></th>\n",
       "      <th>score</th>\n",
       "      <th>review</th>\n",
       "      <th>y</th>\n",
       "    </tr>\n",
       "  </thead>\n",
       "  <tbody>\n",
       "    <tr>\n",
       "      <th>0</th>\n",
       "      <td>5</td>\n",
       "      <td>라운딩 후 기력보충으로 장어로 정해서 먹었는데 메뉴선택, 매장선택이 좋았습니다</td>\n",
       "      <td>1</td>\n",
       "    </tr>\n",
       "    <tr>\n",
       "      <th>1</th>\n",
       "      <td>5</td>\n",
       "      <td>날이더워고민했는데 그래도 맛있게 먹고나니 기분좋습니다.</td>\n",
       "      <td>1</td>\n",
       "    </tr>\n",
       "    <tr>\n",
       "      <th>2</th>\n",
       "      <td>5</td>\n",
       "      <td>실하고 좋네요~~   오랜만에 가족식사 나왔어요. 사람 많고 맛있었어요</td>\n",
       "      <td>1</td>\n",
       "    </tr>\n",
       "    <tr>\n",
       "      <th>3</th>\n",
       "      <td>5</td>\n",
       "      <td>청명산장어오면 다른곳못가죠 ㅎ</td>\n",
       "      <td>1</td>\n",
       "    </tr>\n",
       "    <tr>\n",
       "      <th>4</th>\n",
       "      <td>5</td>\n",
       "      <td>너무너무맛있어요~~ 몸보신해야 살죠~</td>\n",
       "      <td>1</td>\n",
       "    </tr>\n",
       "  </tbody>\n",
       "</table>\n",
       "</div>"
      ],
      "text/plain": [
       "   score                                       review  y\n",
       "0      5  라운딩 후 기력보충으로 장어로 정해서 먹었는데 메뉴선택, 매장선택이 좋았습니다  1\n",
       "1      5               날이더워고민했는데 그래도 맛있게 먹고나니 기분좋습니다.  1\n",
       "2      5      실하고 좋네요~~   오랜만에 가족식사 나왔어요. 사람 많고 맛있었어요  1\n",
       "3      5                             청명산장어오면 다른곳못가죠 ㅎ  1\n",
       "4      5                         너무너무맛있어요~~ 몸보신해야 살죠~  1"
      ]
     },
     "execution_count": 55,
     "metadata": {},
     "output_type": "execute_result"
    }
   ],
   "source": [
    "df.head()"
   ]
  },
  {
   "cell_type": "code",
   "execution_count": 4,
   "metadata": {},
   "outputs": [
    {
     "name": "stdout",
     "output_type": "stream",
     "text": [
      "score      0\n",
      "review    87\n",
      "y          0\n",
      "dtype: int64\n"
     ]
    },
    {
     "data": {
      "text/html": [
       "<div>\n",
       "<style scoped>\n",
       "    .dataframe tbody tr th:only-of-type {\n",
       "        vertical-align: middle;\n",
       "    }\n",
       "\n",
       "    .dataframe tbody tr th {\n",
       "        vertical-align: top;\n",
       "    }\n",
       "\n",
       "    .dataframe thead th {\n",
       "        text-align: right;\n",
       "    }\n",
       "</style>\n",
       "<table border=\"1\" class=\"dataframe\">\n",
       "  <thead>\n",
       "    <tr style=\"text-align: right;\">\n",
       "      <th></th>\n",
       "      <th>score</th>\n",
       "      <th>review</th>\n",
       "      <th>y</th>\n",
       "    </tr>\n",
       "  </thead>\n",
       "  <tbody>\n",
       "    <tr>\n",
       "      <th>0</th>\n",
       "      <td>5</td>\n",
       "      <td>라운딩 후 기력보충으로 장어로 정해서 먹었는데 메뉴선택, 매장선택이 좋았습니다</td>\n",
       "      <td>1</td>\n",
       "    </tr>\n",
       "    <tr>\n",
       "      <th>1</th>\n",
       "      <td>5</td>\n",
       "      <td>날이더워고민했는데 그래도 맛있게 먹고나니 기분좋습니다.</td>\n",
       "      <td>1</td>\n",
       "    </tr>\n",
       "    <tr>\n",
       "      <th>2</th>\n",
       "      <td>5</td>\n",
       "      <td>실하고 좋네요~~   오랜만에 가족식사 나왔어요. 사람 많고 맛있었어요</td>\n",
       "      <td>1</td>\n",
       "    </tr>\n",
       "    <tr>\n",
       "      <th>3</th>\n",
       "      <td>5</td>\n",
       "      <td>청명산장어오면 다른곳못가죠 ㅎ</td>\n",
       "      <td>1</td>\n",
       "    </tr>\n",
       "    <tr>\n",
       "      <th>4</th>\n",
       "      <td>5</td>\n",
       "      <td>너무너무맛있어요~~ 몸보신해야 살죠~</td>\n",
       "      <td>1</td>\n",
       "    </tr>\n",
       "    <tr>\n",
       "      <th>...</th>\n",
       "      <td>...</td>\n",
       "      <td>...</td>\n",
       "      <td>...</td>\n",
       "    </tr>\n",
       "    <tr>\n",
       "      <th>415</th>\n",
       "      <td>5</td>\n",
       "      <td>언니가 너무 먹고싶어해서 애기 둘 데리고 힘들게 갔는데 사장님이 배려 많이해주셔서 ...</td>\n",
       "      <td>1</td>\n",
       "    </tr>\n",
       "    <tr>\n",
       "      <th>416</th>\n",
       "      <td>2</td>\n",
       "      <td>맛있긴한데 가격을 진심 심각할 정도로올리심 분명 19년초엔 2만원이었는데.. 그때도...</td>\n",
       "      <td>0</td>\n",
       "    </tr>\n",
       "    <tr>\n",
       "      <th>417</th>\n",
       "      <td>2</td>\n",
       "      <td>맛은 당연 곱창 이니 평타는 치고 가격이 너무ㅋㅋ.... 이동네 곱창집 잘하는곳 또...</td>\n",
       "      <td>0</td>\n",
       "    </tr>\n",
       "    <tr>\n",
       "      <th>418</th>\n",
       "      <td>2</td>\n",
       "      <td>맛없진 않았는데 1인분 2만5천원은 비싸기도 하고, 그 값에 기다릴만큼 엄청 맛있었...</td>\n",
       "      <td>0</td>\n",
       "    </tr>\n",
       "    <tr>\n",
       "      <th>419</th>\n",
       "      <td>1</td>\n",
       "      <td>곱창 좋아하는 일인입니다..일단 염통은 냄새나는 염통이더군요 전체적으로 너무나도 느...</td>\n",
       "      <td>0</td>\n",
       "    </tr>\n",
       "  </tbody>\n",
       "</table>\n",
       "<p>420 rows × 3 columns</p>\n",
       "</div>"
      ],
      "text/plain": [
       "     score                                             review  y\n",
       "0        5        라운딩 후 기력보충으로 장어로 정해서 먹었는데 메뉴선택, 매장선택이 좋았습니다  1\n",
       "1        5                     날이더워고민했는데 그래도 맛있게 먹고나니 기분좋습니다.  1\n",
       "2        5            실하고 좋네요~~   오랜만에 가족식사 나왔어요. 사람 많고 맛있었어요  1\n",
       "3        5                                   청명산장어오면 다른곳못가죠 ㅎ  1\n",
       "4        5                               너무너무맛있어요~~ 몸보신해야 살죠~  1\n",
       "..     ...                                                ... ..\n",
       "415      5  언니가 너무 먹고싶어해서 애기 둘 데리고 힘들게 갔는데 사장님이 배려 많이해주셔서 ...  1\n",
       "416      2  맛있긴한데 가격을 진심 심각할 정도로올리심 분명 19년초엔 2만원이었는데.. 그때도...  0\n",
       "417      2  맛은 당연 곱창 이니 평타는 치고 가격이 너무ㅋㅋ.... 이동네 곱창집 잘하는곳 또...  0\n",
       "418      2  맛없진 않았는데 1인분 2만5천원은 비싸기도 하고, 그 값에 기다릴만큼 엄청 맛있었...  0\n",
       "419      1  곱창 좋아하는 일인입니다..일단 염통은 냄새나는 염통이더군요 전체적으로 너무나도 느...  0\n",
       "\n",
       "[420 rows x 3 columns]"
      ]
     },
     "execution_count": 4,
     "metadata": {},
     "output_type": "execute_result"
    }
   ],
   "source": [
    "#결측시\n",
    "print(df.isnull().sum())\n",
    "df"
   ]
  },
  {
   "cell_type": "code",
   "execution_count": 57,
   "metadata": {},
   "outputs": [
    {
     "data": {
      "text/html": [
       "<div>\n",
       "<style scoped>\n",
       "    .dataframe tbody tr th:only-of-type {\n",
       "        vertical-align: middle;\n",
       "    }\n",
       "\n",
       "    .dataframe tbody tr th {\n",
       "        vertical-align: top;\n",
       "    }\n",
       "\n",
       "    .dataframe thead th {\n",
       "        text-align: right;\n",
       "    }\n",
       "</style>\n",
       "<table border=\"1\" class=\"dataframe\">\n",
       "  <thead>\n",
       "    <tr style=\"text-align: right;\">\n",
       "      <th></th>\n",
       "      <th>score</th>\n",
       "      <th>review</th>\n",
       "      <th>y</th>\n",
       "    </tr>\n",
       "  </thead>\n",
       "  <tbody>\n",
       "    <tr>\n",
       "      <th>0</th>\n",
       "      <td>5</td>\n",
       "      <td>라운딩 후 기력보충으로 장어로 정해서 먹었는데 메뉴선택, 매장선택이 좋았습니다</td>\n",
       "      <td>1</td>\n",
       "    </tr>\n",
       "    <tr>\n",
       "      <th>1</th>\n",
       "      <td>5</td>\n",
       "      <td>날이더워고민했는데 그래도 맛있게 먹고나니 기분좋습니다.</td>\n",
       "      <td>1</td>\n",
       "    </tr>\n",
       "    <tr>\n",
       "      <th>2</th>\n",
       "      <td>5</td>\n",
       "      <td>실하고 좋네요~~   오랜만에 가족식사 나왔어요. 사람 많고 맛있었어요</td>\n",
       "      <td>1</td>\n",
       "    </tr>\n",
       "    <tr>\n",
       "      <th>3</th>\n",
       "      <td>5</td>\n",
       "      <td>청명산장어오면 다른곳못가죠 ㅎ</td>\n",
       "      <td>1</td>\n",
       "    </tr>\n",
       "    <tr>\n",
       "      <th>4</th>\n",
       "      <td>5</td>\n",
       "      <td>너무너무맛있어요~~ 몸보신해야 살죠~</td>\n",
       "      <td>1</td>\n",
       "    </tr>\n",
       "    <tr>\n",
       "      <th>...</th>\n",
       "      <td>...</td>\n",
       "      <td>...</td>\n",
       "      <td>...</td>\n",
       "    </tr>\n",
       "    <tr>\n",
       "      <th>415</th>\n",
       "      <td>5</td>\n",
       "      <td>언니가 너무 먹고싶어해서 애기 둘 데리고 힘들게 갔는데 사장님이 배려 많이해주셔서 ...</td>\n",
       "      <td>1</td>\n",
       "    </tr>\n",
       "    <tr>\n",
       "      <th>416</th>\n",
       "      <td>2</td>\n",
       "      <td>맛있긴한데 가격을 진심 심각할 정도로올리심 분명 19년초엔 2만원이었는데.. 그때도...</td>\n",
       "      <td>0</td>\n",
       "    </tr>\n",
       "    <tr>\n",
       "      <th>417</th>\n",
       "      <td>2</td>\n",
       "      <td>맛은 당연 곱창 이니 평타는 치고 가격이 너무ㅋㅋ.... 이동네 곱창집 잘하는곳 또...</td>\n",
       "      <td>0</td>\n",
       "    </tr>\n",
       "    <tr>\n",
       "      <th>418</th>\n",
       "      <td>2</td>\n",
       "      <td>맛없진 않았는데 1인분 2만5천원은 비싸기도 하고, 그 값에 기다릴만큼 엄청 맛있었...</td>\n",
       "      <td>0</td>\n",
       "    </tr>\n",
       "    <tr>\n",
       "      <th>419</th>\n",
       "      <td>1</td>\n",
       "      <td>곱창 좋아하는 일인입니다..일단 염통은 냄새나는 염통이더군요 전체적으로 너무나도 느...</td>\n",
       "      <td>0</td>\n",
       "    </tr>\n",
       "  </tbody>\n",
       "</table>\n",
       "<p>333 rows × 3 columns</p>\n",
       "</div>"
      ],
      "text/plain": [
       "     score                                             review  y\n",
       "0        5        라운딩 후 기력보충으로 장어로 정해서 먹었는데 메뉴선택, 매장선택이 좋았습니다  1\n",
       "1        5                     날이더워고민했는데 그래도 맛있게 먹고나니 기분좋습니다.  1\n",
       "2        5            실하고 좋네요~~   오랜만에 가족식사 나왔어요. 사람 많고 맛있었어요  1\n",
       "3        5                                   청명산장어오면 다른곳못가죠 ㅎ  1\n",
       "4        5                               너무너무맛있어요~~ 몸보신해야 살죠~  1\n",
       "..     ...                                                ... ..\n",
       "415      5  언니가 너무 먹고싶어해서 애기 둘 데리고 힘들게 갔는데 사장님이 배려 많이해주셔서 ...  1\n",
       "416      2  맛있긴한데 가격을 진심 심각할 정도로올리심 분명 19년초엔 2만원이었는데.. 그때도...  0\n",
       "417      2  맛은 당연 곱창 이니 평타는 치고 가격이 너무ㅋㅋ.... 이동네 곱창집 잘하는곳 또...  0\n",
       "418      2  맛없진 않았는데 1인분 2만5천원은 비싸기도 하고, 그 값에 기다릴만큼 엄청 맛있었...  0\n",
       "419      1  곱창 좋아하는 일인입니다..일단 염통은 냄새나는 염통이더군요 전체적으로 너무나도 느...  0\n",
       "\n",
       "[333 rows x 3 columns]"
      ]
     },
     "execution_count": 57,
     "metadata": {},
     "output_type": "execute_result"
    }
   ],
   "source": [
    "# park.dropna(subset=['위도', '경도'],inplace=True) # '위도', '경도' 에 nan 있는 row 삭제\n",
    "df.dropna(subset=['review'], inplace=True)\n",
    "df"
   ]
  },
  {
   "cell_type": "code",
   "execution_count": 5,
   "metadata": {},
   "outputs": [
    {
     "name": "stdout",
     "output_type": "stream",
     "text": [
      "에러 1033\n"
     ]
    }
   ],
   "source": [
    "#정규식 사용 예제\n",
    "import re\n",
    "text = \"에러 1122 : 레퍼런스 오류\\n 에러 1033: 아규먼트 오류\"\n",
    "regex = re.compile(\"에러 1033\")\n",
    "mo = regex.search(text)\n",
    "if mo != None:\n",
    "    print(mo.group()) "
   ]
  },
  {
   "cell_type": "code",
   "execution_count": 6,
   "metadata": {},
   "outputs": [
    {
     "data": {
      "text/html": [
       "<div>\n",
       "<style scoped>\n",
       "    .dataframe tbody tr th:only-of-type {\n",
       "        vertical-align: middle;\n",
       "    }\n",
       "\n",
       "    .dataframe tbody tr th {\n",
       "        vertical-align: top;\n",
       "    }\n",
       "\n",
       "    .dataframe thead th {\n",
       "        text-align: right;\n",
       "    }\n",
       "</style>\n",
       "<table border=\"1\" class=\"dataframe\">\n",
       "  <thead>\n",
       "    <tr style=\"text-align: right;\">\n",
       "      <th></th>\n",
       "      <th>score</th>\n",
       "      <th>y</th>\n",
       "      <th>ko_text</th>\n",
       "    </tr>\n",
       "  </thead>\n",
       "  <tbody>\n",
       "    <tr>\n",
       "      <th>0</th>\n",
       "      <td>5</td>\n",
       "      <td>1</td>\n",
       "      <td>라운딩 후 기력보충으로 장어로 정해서 먹었는데 메뉴선택 매장선택이 좋았습니다</td>\n",
       "    </tr>\n",
       "    <tr>\n",
       "      <th>1</th>\n",
       "      <td>5</td>\n",
       "      <td>1</td>\n",
       "      <td>날이더워고민했는데 그래도 맛있게 먹고나니 기분좋습니다</td>\n",
       "    </tr>\n",
       "    <tr>\n",
       "      <th>2</th>\n",
       "      <td>5</td>\n",
       "      <td>1</td>\n",
       "      <td>실하고 좋네요   오랜만에 가족식사 나왔어요 사람 많고 맛있었어요</td>\n",
       "    </tr>\n",
       "    <tr>\n",
       "      <th>3</th>\n",
       "      <td>5</td>\n",
       "      <td>1</td>\n",
       "      <td>청명산장어오면 다른곳못가죠 ㅎ</td>\n",
       "    </tr>\n",
       "    <tr>\n",
       "      <th>4</th>\n",
       "      <td>5</td>\n",
       "      <td>1</td>\n",
       "      <td>너무너무맛있어요 몸보신해야 살죠</td>\n",
       "    </tr>\n",
       "  </tbody>\n",
       "</table>\n",
       "</div>"
      ],
      "text/plain": [
       "   score  y                                     ko_text\n",
       "0      5  1  라운딩 후 기력보충으로 장어로 정해서 먹었는데 메뉴선택 매장선택이 좋았습니다\n",
       "1      5  1               날이더워고민했는데 그래도 맛있게 먹고나니 기분좋습니다\n",
       "2      5  1        실하고 좋네요   오랜만에 가족식사 나왔어요 사람 많고 맛있었어요\n",
       "3      5  1                            청명산장어오면 다른곳못가죠 ㅎ\n",
       "4      5  1                           너무너무맛있어요 몸보신해야 살죠"
      ]
     },
     "execution_count": 6,
     "metadata": {},
     "output_type": "execute_result"
    }
   ],
   "source": [
    "# 함수를 적용하여 리뷰에서 한글만 추출합니다.\n",
    "df = pd.read_csv(\"review_data2.csv\")\n",
    "df['ko_text'] = df['review'].apply(lambda x: text_cleaning(x))\n",
    "del df['review']\n",
    "\n",
    "# 한 글자 이상의 텍스트를 가지고 있는 데이터만 추출합니다\n",
    "df = df[df['ko_text'].str.len() > 0]\n",
    "df.head()"
   ]
  },
  {
   "cell_type": "markdown",
   "metadata": {},
   "source": [
    "-----"
   ]
  },
  {
   "cell_type": "markdown",
   "metadata": {},
   "source": [
    "##### 형태소 단위로 추출"
   ]
  },
  {
   "cell_type": "code",
   "execution_count": null,
   "metadata": {},
   "outputs": [],
   "source": [
    "import sys\n",
    "sys.version"
   ]
  },
  {
   "cell_type": "code",
   "execution_count": 7,
   "metadata": {},
   "outputs": [
    {
     "name": "stdout",
     "output_type": "stream",
     "text": [
      "['청명산/Noun', '장어/Noun', '오면/Verb', '다른/Modifier', '곳/Noun', '못/VerbPrefix', '가죠/Verb', 'ㅎ/KoreanParticle']\n"
     ]
    }
   ],
   "source": [
    "from konlpy.tag import Okt\n",
    "\n",
    "# konlpy라이브러리로 텍스트 데이터에서 형태소를 추출합니다.\n",
    "def get_pos(x):\n",
    "    tagger = Okt()\n",
    "    pos = tagger.pos(x)\n",
    "    pos = ['{}/{}'.format(word,tag) for word, tag in pos]\n",
    "    return pos\n",
    "\n",
    "# 형태소 추출 동작을 테스트합니다.\n",
    "result = get_pos(df['ko_text'].values[3])\n",
    "print(result)"
   ]
  },
  {
   "cell_type": "markdown",
   "metadata": {},
   "source": [
    "-----"
   ]
  },
  {
   "cell_type": "markdown",
   "metadata": {},
   "source": [
    "### [분류 모델의 학습 데이터로 변환하기]"
   ]
  },
  {
   "cell_type": "markdown",
   "metadata": {},
   "source": [
    "##### corpus index 생성하기"
   ]
  },
  {
   "cell_type": "code",
   "execution_count": 8,
   "metadata": {},
   "outputs": [],
   "source": [
    "from sklearn.feature_extraction.text import CountVectorizer\n",
    "\n",
    "# 형태소를 벡터 형태의 학습 데이터셋(X 데이터)으로 변환합니다.\n",
    "index_vectorizer = CountVectorizer(tokenizer = lambda x: get_pos(x))\n",
    "X = index_vectorizer.fit_transform(df['ko_text'].tolist())"
   ]
  },
  {
   "cell_type": "code",
   "execution_count": 9,
   "metadata": {},
   "outputs": [
    {
     "data": {
      "text/plain": [
       "(332, 2335)"
      ]
     },
     "execution_count": 9,
     "metadata": {},
     "output_type": "execute_result"
    }
   ],
   "source": [
    "X.shape"
   ]
  },
  {
   "cell_type": "code",
   "execution_count": 10,
   "metadata": {},
   "outputs": [
    {
     "name": "stdout",
     "output_type": "stream",
     "text": [
      "{'라운딩/Noun': 663, '후/Noun': 2313, '기력/Noun': 292, '보충/Noun': 1018, '으로/Josa': 1627, '장어/Noun': 1773,..\n"
     ]
    }
   ],
   "source": [
    "print(str(index_vectorizer.vocabulary_)[:100]+\"..\")"
   ]
  },
  {
   "cell_type": "code",
   "execution_count": 11,
   "metadata": {},
   "outputs": [
    {
     "name": "stdout",
     "output_type": "stream",
     "text": [
      "라운딩 후 기력보충으로 장어로 정해서 먹었는데 메뉴선택 매장선택이 좋았습니다\n",
      "  (0, 663)\t1\n",
      "  (0, 2313)\t1\n",
      "  (0, 292)\t1\n",
      "  (0, 1018)\t1\n",
      "  (0, 1627)\t1\n",
      "  (0, 1773)\t1\n",
      "  (0, 673)\t1\n",
      "  (0, 1828)\t1\n",
      "  (0, 1164)\t1\n",
      "  (0, 836)\t1\n",
      "  (0, 865)\t1\n",
      "  (0, 1175)\t2\n",
      "  (0, 810)\t1\n",
      "  (0, 1648)\t1\n",
      "  (0, 1872)\t1\n"
     ]
    }
   ],
   "source": [
    "print(df['ko_text'].values[0])\n",
    "print(X[0])"
   ]
  },
  {
   "cell_type": "markdown",
   "metadata": {},
   "source": [
    "-----"
   ]
  },
  {
   "cell_type": "markdown",
   "metadata": {},
   "source": [
    "##### TF-IDF로 변환"
   ]
  },
  {
   "cell_type": "code",
   "execution_count": 12,
   "metadata": {},
   "outputs": [],
   "source": [
    "from sklearn.feature_extraction.text import TfidfTransformer\n",
    "\n",
    "# TF-IDF 방법으로, 형태소를 벡터 형태의 학습 데이터셋(X 데이터)으로 변환합니다.\n",
    "tfidf_vectorizer = TfidfTransformer()\n",
    "X = tfidf_vectorizer.fit_transform(X)"
   ]
  },
  {
   "cell_type": "code",
   "execution_count": 13,
   "metadata": {},
   "outputs": [
    {
     "name": "stdout",
     "output_type": "stream",
     "text": [
      "(332, 2335)\n",
      "  (0, 2313)\t0.2516980388851735\n",
      "  (0, 1872)\t0.26505308161923713\n",
      "  (0, 1828)\t0.28387595716308556\n",
      "  (0, 1773)\t0.19698142859831358\n",
      "  (0, 1648)\t0.10416349022967666\n",
      "  (0, 1627)\t0.16662425047205034\n",
      "  (0, 1175)\t0.503396077770347\n",
      "  (0, 1164)\t0.20473656752846156\n",
      "  (0, 1018)\t0.28387595716308556\n",
      "  (0, 865)\t0.2091611446786119\n",
      "  (0, 836)\t0.20473656752846156\n",
      "  (0, 810)\t0.2195201206072614\n",
      "  (0, 673)\t0.1935411199040217\n",
      "  (0, 663)\t0.28387595716308556\n",
      "  (0, 292)\t0.28387595716308556\n"
     ]
    }
   ],
   "source": [
    "print(X.shape)\n",
    "print(X[0])"
   ]
  },
  {
   "cell_type": "markdown",
   "metadata": {},
   "source": [
    "-----"
   ]
  },
  {
   "cell_type": "markdown",
   "metadata": {},
   "source": [
    "# <Step3. 분류> : 긍정 부정 리뷰 분류하기"
   ]
  },
  {
   "cell_type": "markdown",
   "metadata": {},
   "source": [
    "### [분류 모델링]"
   ]
  },
  {
   "cell_type": "markdown",
   "metadata": {},
   "source": [
    "##### 데이터셋 분리"
   ]
  },
  {
   "cell_type": "code",
   "execution_count": 14,
   "metadata": {},
   "outputs": [
    {
     "name": "stdout",
     "output_type": "stream",
     "text": [
      "(232, 2335)\n",
      "(100, 2335)\n"
     ]
    }
   ],
   "source": [
    "from sklearn.model_selection import train_test_split\n",
    "\n",
    "y = df['y']\n",
    "x_train, x_test, y_train, y_test = train_test_split(X, y, test_size=0.30)\n",
    "print(x_train.shape)\n",
    "print(x_test.shape)"
   ]
  },
  {
   "cell_type": "markdown",
   "metadata": {},
   "source": [
    "-----"
   ]
  },
  {
   "cell_type": "markdown",
   "metadata": {},
   "source": [
    "##### Logistic Regression"
   ]
  },
  {
   "cell_type": "code",
   "execution_count": 15,
   "metadata": {},
   "outputs": [
    {
     "name": "stdout",
     "output_type": "stream",
     "text": [
      "accuracy: 0.60\n",
      "Precision : 0.600\n",
      "Recall : 1.000\n",
      "F1 : 0.750\n"
     ]
    }
   ],
   "source": [
    "from sklearn.linear_model import LogisticRegression\n",
    "from sklearn.metrics import accuracy_score, precision_score, recall_score, f1_score\n",
    "\n",
    "# 로지스틱 회귀모델을 학습합니다.\n",
    "lr = LogisticRegression(random_state=0)\n",
    "lr.fit(x_train, y_train)\n",
    "y_pred = lr.predict(x_test)\n",
    "y_pred_probability = lr.predict_proba(x_test)[:,1]\n",
    "\n",
    "# 로지스틱 회귀모델의 성능을 평가합니다.\n",
    "print(\"accuracy: %.2f\" % accuracy_score(y_test, y_pred))\n",
    "print(\"Precision : %.3f\" % precision_score(y_test, y_pred))\n",
    "print(\"Recall : %.3f\" % recall_score(y_test, y_pred))\n",
    "print(\"F1 : %.3f\" % f1_score(y_test, y_pred))"
   ]
  },
  {
   "cell_type": "code",
   "execution_count": 16,
   "metadata": {},
   "outputs": [
    {
     "name": "stdout",
     "output_type": "stream",
     "text": [
      "[[ 0 40]\n",
      " [ 0 60]]\n"
     ]
    }
   ],
   "source": [
    "from sklearn.metrics import confusion_matrix\n",
    "\n",
    "# Confusion Matrix를 출력합니다.\n",
    "confmat = confusion_matrix(y_true=y_test, y_pred=y_pred)\n",
    "print(confmat)"
   ]
  },
  {
   "cell_type": "code",
   "execution_count": 17,
   "metadata": {},
   "outputs": [
    {
     "name": "stdout",
     "output_type": "stream",
     "text": [
      "AUC : 0.861\n"
     ]
    },
    {
     "data": {
      "text/plain": [
       "<matplotlib.legend.Legend at 0x27598235040>"
      ]
     },
     "execution_count": 17,
     "metadata": {},
     "output_type": "execute_result"
    },
    {
     "data": {
      "image/png": "[encoded data removed]",
      "text/plain": [
       "<Figure size 360x288 with 1 Axes>"
      ]
     },
     "metadata": {
      "needs_background": "light"
     },
     "output_type": "display_data"
    }
   ],
   "source": [
    "from sklearn.metrics import roc_curve, roc_auc_score\n",
    "\n",
    "# AUC를 계산합니다.\n",
    "false_positive_rate, true_positive_rate, thresholds = roc_curve(y_test, y_pred_probability)\n",
    "roc_auc = roc_auc_score(y_test, y_pred_probability)\n",
    "print(\"AUC : %.3f\" % roc_auc)\n",
    "\n",
    "# ROC curve 그래프를 출력합니다.\n",
    "plt.rcParams['figure.figsize'] = [5, 4]\n",
    "plt.plot(false_positive_rate, true_positive_rate, label='ROC curve (area = %0.3f)' % roc_auc, \n",
    "         color='red', linewidth=4.0)\n",
    "plt.plot([0, 1], [0, 1], 'k--')\n",
    "plt.xlim([0.0, 1.0])\n",
    "plt.ylim([0.0, 1.0])\n",
    "plt.xlabel('False Positive Rate')\n",
    "plt.ylabel('True Positive Rate')\n",
    "plt.title('ROC curve of Logistic regression')\n",
    "plt.legend(loc=\"lower right\")"
   ]
  },
  {
   "cell_type": "markdown",
   "metadata": {},
   "source": [
    "------"
   ]
  },
  {
   "cell_type": "markdown",
   "metadata": {},
   "source": [
    "# <Step4. 활용> : 중요 키워드 분석"
   ]
  },
  {
   "cell_type": "markdown",
   "metadata": {},
   "source": [
    "### [회귀 모델의 피처 영향력 추출]"
   ]
  },
  {
   "cell_type": "code",
   "execution_count": 17,
   "metadata": {},
   "outputs": [
    {
     "data": {
      "text/plain": [
       "<BarContainer object of 2335 artists>"
      ]
     },
     "execution_count": 17,
     "metadata": {},
     "output_type": "execute_result"
    },
    {
     "data": {
      "image/png": "[encoded data removed]",
      "text/plain": [
       "<Figure size 720x576 with 1 Axes>"
      ]
     },
     "metadata": {
      "needs_background": "light"
     },
     "output_type": "display_data"
    }
   ],
   "source": [
    "# 학습한 회귀 모델의 계수를 출력합니다.\n",
    "plt.rcParams['figure.figsize'] = [10, 8]\n",
    "plt.bar(range(len(lr.coef_[0])), lr.coef_[0])"
   ]
  },
  {
   "cell_type": "code",
   "execution_count": 18,
   "metadata": {},
   "outputs": [
    {
     "name": "stdout",
     "output_type": "stream",
     "text": [
      "[(1.3516192390166488, 778), (0.9855165205420249, 2013), (0.5923761469075278, 785), (0.49089450410254026, 1773), (0.4889954784924478, 1104)]\n",
      "[(-0.5761779163210459, 1310), (-0.607249102222077, 1579), (-0.8652455335316548, 709), (-1.049562718836889, 1631), (-1.2749323144613218, 450)]\n"
     ]
    }
   ],
   "source": [
    "print(sorted(((value, index) for index, value in enumerate(lr.coef_[0])), reverse=True)[:5])\n",
    "print(sorted(((value, index) for index, value in enumerate(lr.coef_[0])), reverse=True)[-5:])"
   ]
  },
  {
   "cell_type": "markdown",
   "metadata": {},
   "source": [
    "-----"
   ]
  },
  {
   "cell_type": "markdown",
   "metadata": {},
   "source": [
    "### [중요 피처의 형태소]"
   ]
  },
  {
   "cell_type": "code",
   "execution_count": 19,
   "metadata": {},
   "outputs": [],
   "source": [
    "# 회귀 모델의 계수를 높은 순으로 정렬합니다. \n",
    "coef_pos_index = sorted(((value, index) for index, value in enumerate(lr.coef_[0])), reverse=True)"
   ]
  },
  {
   "cell_type": "code",
   "execution_count": 20,
   "metadata": {},
   "outputs": [
    {
     "name": "stdout",
     "output_type": "stream",
     "text": [
      "{663: '라운딩/Noun', 2313: '후/Noun', 292: '기력/Noun', 1018: '보충/Noun', 1627: '으로/Josa', 1773: '장어/Noun',..\n"
     ]
    }
   ],
   "source": [
    "# 회귀 모델의 계수를 index_vectorizer에 맵핑하여, 어떤 형태소인지 출력할 수 있게 합니다.\n",
    "invert_index_vectorizer = {v: k for k, v in index_vectorizer.vocabulary_.items()}\n",
    "\n",
    "# 계수가 높은 순으로, 피처에 형태소를 맵핑한 결과를 출력합니다. 계수가 높은 피처는 리뷰에 긍정적인 영향을 주는 형태소라고 할 수 있습니다.\n",
    "print(str(invert_index_vectorizer)[:100]+'..')"
   ]
  },
  {
   "cell_type": "code",
   "execution_count": 21,
   "metadata": {
    "scrolled": true
   },
   "outputs": [
    {
     "name": "stdout",
     "output_type": "stream",
     "text": [
      "맛있어요/Adjective 1.3516192390166488\n",
      "최고/Noun 0.9855165205420249\n",
      "맛있음/Adjective 0.5923761469075278\n",
      "장어/Noun 0.49089450410254026\n",
      "빵/Noun 0.4889954784924478\n",
      "갑니다/Verb 0.4881845508927478\n",
      "도/Josa 0.45339428013067934\n",
      "좋아요/Adjective 0.43871827082258696\n",
      "맛있고/Adjective 0.37833412297617913\n",
      "광교/Noun 0.37066748353685486\n",
      "기/Noun 0.3694418414282517\n",
      "요리/Noun 0.36329632396204486\n",
      "추천/Noun 0.3628935891508538\n",
      "굿/Noun 0.3582023722555006\n",
      "다/Adverb 0.35130424302292323\n",
      "정말/Noun 0.3434001860187167\n",
      "초밥/Noun 0.33946836150971055\n",
      "에요/Josa 0.3313990029489989\n",
      "인정/Noun 0.33000353118098635\n",
      "잘/Verb 0.3058596331823073\n"
     ]
    }
   ],
   "source": [
    "# 상위 20개 긍정 형태소를 출력합니다.\n",
    "for coef in coef_pos_index[:20]:\n",
    "    print(invert_index_vectorizer[coef[1]], coef[0])"
   ]
  },
  {
   "cell_type": "code",
   "execution_count": 22,
   "metadata": {},
   "outputs": [
    {
     "name": "stdout",
     "output_type": "stream",
     "text": [
      "한/Josa -0.38123020889424886\n",
      "최악/Noun -0.3895655381605166\n",
      "맛/Noun -0.40408956039177407\n",
      "것/Noun -0.4243764106603821\n",
      "테이블/Noun -0.42465595272179874\n",
      "질/Noun -0.42673265896435003\n",
      "맛있는거에요/Adjective -0.4294242631225001\n",
      "못/VerbPrefix -0.4335638120737923\n",
      "페이/Noun -0.43428746829402476\n",
      "별로/Noun -0.44673809292986727\n",
      "불친절/Noun -0.483787969572494\n",
      "좀/Noun -0.5105467186304352\n",
      "요/Josa -0.5345628494466629\n",
      "가세/Noun -0.5402589185297731\n",
      "등심/Noun -0.5651774163239038\n",
      "쏘/Verb -0.5761779163210459\n",
      "왜/Noun -0.607249102222077\n",
      "만/Josa -0.8652455335316548\n",
      "은/Josa -1.049562718836889\n",
      "는/Josa -1.2749323144613218\n"
     ]
    }
   ],
   "source": [
    "# 상위 20개 부정 형태소를 출력합니다.\n",
    "for coef in coef_pos_index[-20:]:\n",
    "    print(invert_index_vectorizer[coef[1]], coef[0])"
   ]
  },
  {
   "cell_type": "markdown",
   "metadata": {},
   "source": [
    "-----"
   ]
  },
  {
   "cell_type": "markdown",
   "metadata": {},
   "source": [
    "### `[미니 퀴즈 - 4.3]`\n",
    "- `피처 영향력에 따라 정렬된 형태소에서, 품사별 긍정 형태소 10개와 부정 형태소 10개를 탐색해 보세요.` \n",
    "    - “/”로 구분되어있는 정보를 활용하여 품사별 형태소를 추출할 수 있습니다."
   ]
  },
  {
   "cell_type": "code",
   "execution_count": 23,
   "metadata": {},
   "outputs": [],
   "source": [
    "noun_list = []\n",
    "adjective_list = []\n",
    "\n",
    "# 명사, 형용사별로 계수가 높은 상위 10개의 형태소를 추출합니다. 이는 리뷰에 긍정적인 영향을 주는 명사와 형용사를 순위별로 살펴보는 것이 됩니다.\n",
    "for coef in coef_pos_index[:100]:\n",
    "    pos_category = invert_index_vectorizer[coef[1]].split(\"/\")[1]\n",
    "    if pos_category == \"Noun\":\n",
    "        noun_list.append((invert_index_vectorizer[coef[1]], coef[0]))\n",
    "    elif pos_category == \"Adjective\":\n",
    "        adjective_list.append((invert_index_vectorizer[coef[1]], coef[0]))"
   ]
  },
  {
   "cell_type": "code",
   "execution_count": 25,
   "metadata": {},
   "outputs": [
    {
     "data": {
      "text/plain": [
       "[('최고/Noun', 1.909065385635278),\n",
       " ('가성/Noun', 0.5314590777828826),\n",
       " ('육즙/Noun', 0.5116651519478432),\n",
       " ('추천/Noun', 0.45501949410180387),\n",
       " ('비/Noun', 0.45428785157702345),\n",
       " ('곱/Noun', 0.44812479266494415),\n",
       " ('완전/Noun', 0.3931212412536321),\n",
       " ('냉면/Noun', 0.3816815075003937),\n",
       " ('명/Noun', 0.3649611052837822),\n",
       " ('존맛/Noun', 0.3635650127476783)]"
      ]
     },
     "execution_count": 25,
     "metadata": {},
     "output_type": "execute_result"
    }
   ],
   "source": [
    "# 상위 10개의 명사를 출력합니다.\n",
    "noun_list[:10]"
   ]
  },
  {
   "cell_type": "code",
   "execution_count": 24,
   "metadata": {},
   "outputs": [
    {
     "data": {
      "text/plain": [
       "[('맛있어요/Adjective', 1.3516192390166488),\n",
       " ('맛있음/Adjective', 0.5923761469075278),\n",
       " ('좋아요/Adjective', 0.43871827082258696),\n",
       " ('맛있고/Adjective', 0.37833412297617913),\n",
       " ('괜찮았어요/Adjective', 0.30227298554979504),\n",
       " ('깔끔하고/Adjective', 0.2970939626189223),\n",
       " ('좋았어요/Adjective', 0.2667701626611678),\n",
       " ('친절해요/Adjective', 0.26520325324211025),\n",
       " ('맛있어여/Adjective', 0.25219840135449),\n",
       " ('훌륭합니다/Adjective', 0.2446749358071234)]"
      ]
     },
     "execution_count": 24,
     "metadata": {},
     "output_type": "execute_result"
    }
   ],
   "source": [
    "# 상위 10개의 형용사를 출력합니다.\n",
    "adjective_list[:10]"
   ]
  },
  {
   "cell_type": "code",
   "execution_count": null,
   "metadata": {},
   "outputs": [],
   "source": []
  }
 ],
 "metadata": {
  "kernelspec": {
   "display_name": "Python 3",
   "language": "python",
   "name": "python3"
  },
  "language_info": {
   "codemirror_mode": {
    "name": "ipython",
    "version": 3
   },
   "file_extension": ".py",
   "mimetype": "text/x-python",
   "name": "python",
   "nbconvert_exporter": "python",
   "pygments_lexer": "ipython3",
   "version": "3.8.5"
  },
  "toc": {
   "base_numbering": 1,
   "nav_menu": {},
   "number_sections": true,
   "sideBar": true,
   "skip_h1_title": false,
   "title_cell": "Table of Contents",
   "title_sidebar": "Contents",
   "toc_cell": false,
   "toc_position": {
    "height": "calc(100% - 180px)",
    "left": "10px",
    "top": "150px",
    "width": "368px"
   },
   "toc_section_display": true,
   "toc_window_display": true
  }
 },
 "nbformat": 4,
 "nbformat_minor": 4
}
